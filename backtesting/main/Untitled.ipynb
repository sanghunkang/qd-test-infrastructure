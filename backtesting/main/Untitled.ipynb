{
 "cells": [
  {
   "cell_type": "code",
   "execution_count": 17,
   "id": "c4a51d52",
   "metadata": {},
   "outputs": [],
   "source": [
    "import sys \n",
    "import os \n",
    "\n",
    "path = os.getcwd()"
   ]
  },
  {
   "cell_type": "code",
   "execution_count": 26,
   "id": "eaeafe57",
   "metadata": {},
   "outputs": [],
   "source": [
    "path = [path for path in sys.path if 'site-packages' in path][0]"
   ]
  },
  {
   "cell_type": "code",
   "execution_count": 30,
   "id": "27e7370c",
   "metadata": {},
   "outputs": [
    {
     "data": {
      "text/plain": [
       "'intraday'"
      ]
     },
     "execution_count": 30,
     "metadata": {},
     "output_type": "execute_result"
    }
   ],
   "source": [
    "path.split('/')[path.split('/').index('envs') + 1]"
   ]
  },
  {
   "cell_type": "code",
   "execution_count": null,
   "id": "3dd03370",
   "metadata": {},
   "outputs": [],
   "source": []
  }
 ],
 "metadata": {
  "interpreter": {
   "hash": "d6ca4e60ea795cede7a040191a3a71ad4e7ec0cbc8d2472d67c93239cd0910b3"
  },
  "kernelspec": {
   "display_name": "Python 3.6.13 64-bit ('intraday': conda)",
   "name": "python3"
  },
  "language_info": {
   "codemirror_mode": {
    "name": "ipython",
    "version": 3
   },
   "file_extension": ".py",
   "mimetype": "text/x-python",
   "name": "python",
   "nbconvert_exporter": "python",
   "pygments_lexer": "ipython3",
   "version": "3.6.13"
  }
 },
 "nbformat": 4,
 "nbformat_minor": 5
}
